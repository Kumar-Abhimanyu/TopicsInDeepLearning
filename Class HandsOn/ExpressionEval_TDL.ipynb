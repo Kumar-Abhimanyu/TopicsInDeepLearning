{
  "nbformat": 4,
  "nbformat_minor": 0,
  "metadata": {
    "colab": {
      "provenance": []
    },
    "kernelspec": {
      "name": "python3",
      "display_name": "Python 3"
    },
    "language_info": {
      "name": "python"
    }
  },
  "cells": [
    {
      "cell_type": "code",
      "execution_count": null,
      "metadata": {
        "id": "konJDehf20SX"
      },
      "outputs": [],
      "source": [
        "#Expression\n",
        "# 2 x [13+(yx10) + (x+5)]"
      ]
    },
    {
      "cell_type": "code",
      "source": [
        "import tensorflow as tf\n",
        "import tensorflow.compat.v1 as tf\n",
        "tf.disable_v2_behavior()"
      ],
      "metadata": {
        "colab": {
          "base_uri": "https://localhost:8080/"
        },
        "id": "ng1KSox13DsC",
        "outputId": "f588483d-92c1-4290-f2a8-30a3010c6906"
      },
      "execution_count": 1,
      "outputs": [
        {
          "output_type": "stream",
          "name": "stderr",
          "text": [
            "WARNING:tensorflow:From /usr/local/lib/python3.8/dist-packages/tensorflow/python/compat/v2_compat.py:107: disable_resource_variables (from tensorflow.python.ops.variable_scope) is deprecated and will be removed in a future version.\n",
            "Instructions for updating:\n",
            "non-resource variables are not supported in the long term\n"
          ]
        }
      ]
    },
    {
      "cell_type": "code",
      "source": [
        "a = tf.constant(10)\n",
        "b = tf.constant(20)\n",
        "c = tf.multiply(a,b)\n",
        "d = tf.add(a,b)\n",
        "e = tf.subtract(a,b)\n",
        "f = tf.placeholder(tf.int32)\n",
        "g = tf.multiply(f,d)"
      ],
      "metadata": {
        "id": "cuQz5Sza3MyI"
      },
      "execution_count": 2,
      "outputs": []
    },
    {
      "cell_type": "code",
      "source": [
        "x = int(input(\"Enter a number\"))\n",
        "\n",
        "sess = tf.Session()\n",
        "print(sess.run(c))\n",
        "print(sess.run(d))\n",
        "print(sess.run(e))\n",
        "print(sess.run(g,feed_dict={f:x}))\n",
        "sess.close()"
      ],
      "metadata": {
        "colab": {
          "base_uri": "https://localhost:8080/"
        },
        "id": "sCQ7rVQs3k1S",
        "outputId": "0059a9a7-b956-402d-ad39-c6ba767d531a"
      },
      "execution_count": 4,
      "outputs": [
        {
          "output_type": "stream",
          "name": "stdout",
          "text": [
            "Enter a number4\n",
            "200\n",
            "30\n",
            "-10\n",
            "120\n"
          ]
        }
      ]
    },
    {
      "cell_type": "code",
      "source": [
        "#Matrix mutiplication\n",
        "mat1 = tf.constant([1,2,3,4,5,6,7,8,9],shape=[3,3])\n",
        "mat2 = tf.constant([1,0,0,0,1,0,0,0,1],shape=[3,3])\n",
        "op = tf.matmul(mat1,mat2)\n",
        "sess = tf.Session()\n",
        "print(sess.run(op))"
      ],
      "metadata": {
        "colab": {
          "base_uri": "https://localhost:8080/"
        },
        "id": "w0_E-6D_3oVI",
        "outputId": "c7de34a1-8d2a-4f17-a858-869353c45914"
      },
      "execution_count": 5,
      "outputs": [
        {
          "output_type": "stream",
          "name": "stdout",
          "text": [
            "[[1 2 3]\n",
            " [4 5 6]\n",
            " [7 8 9]]\n"
          ]
        }
      ]
    },
    {
      "cell_type": "code",
      "source": [
        "w1 = tf.ones((2,2))\n",
        "w2 = tf.ones((2,2))\n",
        "sess = tf.Session()\n",
        "print(sess.run(w1))\n",
        "print(sess.run(w2))\n",
        "w3 = w1 + w2\n",
        "print(sess.run(w3))\n",
        "w4 = tf.ones((2,2))\n",
        "w5 = tf.Variable(tf.ones((2,2)))\n",
        "print(sess.run(w4))"
      ],
      "metadata": {
        "colab": {
          "base_uri": "https://localhost:8080/"
        },
        "id": "9V35W_4D5fNI",
        "outputId": "6d883aed-5281-4671-d42c-503be74627c4"
      },
      "execution_count": 6,
      "outputs": [
        {
          "output_type": "stream",
          "name": "stdout",
          "text": [
            "[[1. 1.]\n",
            " [1. 1.]]\n",
            "[[1. 1.]\n",
            " [1. 1.]]\n",
            "[[2. 2.]\n",
            " [2. 2.]]\n",
            "[[1. 1.]\n",
            " [1. 1.]]\n"
          ]
        }
      ]
    },
    {
      "cell_type": "code",
      "source": [
        "#Node Representation\n",
        "node1 = tf.constant(13)\n",
        "node2 = tf.constant(5)\n",
        "node3 = tf.placeholder(dtype=tf.int32)\n",
        "node4 = tf.constant(10)\n",
        "node5 = tf.placeholder(dtype=tf.int32)\n",
        "\n",
        "node6 = tf.multiply(node2,node3)\n",
        "node7 = tf.multiply(node4,node5)\n",
        "node8 = tf.add(node6,node7)\n",
        "node9 = tf.add(node1,node8)\n",
        "node10 = tf.constant(2)\n",
        "node11 = tf.multiply(node10,node9)\n",
        "\n",
        "x = int(input(\"Please enter an integer\"))\n",
        "y = int(input(\"Please enter a second integer\"))\n",
        "\n",
        "sess = tf.Session()\n",
        "print(sess.run(node11,feed_dict={node3:x, node5:y}))"
      ],
      "metadata": {
        "colab": {
          "base_uri": "https://localhost:8080/"
        },
        "id": "igabn5aa7h6Y",
        "outputId": "d7b381d5-7608-4d6a-fd7a-679381123921"
      },
      "execution_count": 8,
      "outputs": [
        {
          "output_type": "stream",
          "name": "stdout",
          "text": [
            "Please enter an integer3\n",
            "Please enter a second integer6\n",
            "176\n"
          ]
        }
      ]
    },
    {
      "cell_type": "code",
      "source": [],
      "metadata": {
        "id": "La8Rm_Az_DAD"
      },
      "execution_count": null,
      "outputs": []
    }
  ]
}