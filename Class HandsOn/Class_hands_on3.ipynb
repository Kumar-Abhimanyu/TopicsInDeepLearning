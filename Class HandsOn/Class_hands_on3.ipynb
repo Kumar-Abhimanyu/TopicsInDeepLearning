{
  "nbformat": 4,
  "nbformat_minor": 0,
  "metadata": {
    "colab": {
      "provenance": []
    },
    "kernelspec": {
      "name": "python3",
      "display_name": "Python 3"
    },
    "language_info": {
      "name": "python"
    }
  },
  "cells": [
    {
      "cell_type": "code",
      "execution_count": 1,
      "metadata": {
        "colab": {
          "base_uri": "https://localhost:8080/"
        },
        "id": "BZzZUVzE5w-U",
        "outputId": "3233fb24-7f37-4ec2-ea36-284c5e39c15b"
      },
      "outputs": [
        {
          "output_type": "stream",
          "name": "stderr",
          "text": [
            "WARNING:tensorflow:From /usr/local/lib/python3.8/dist-packages/tensorflow/python/compat/v2_compat.py:107: disable_resource_variables (from tensorflow.python.ops.variable_scope) is deprecated and will be removed in a future version.\n",
            "Instructions for updating:\n",
            "non-resource variables are not supported in the long term\n"
          ]
        },
        {
          "output_type": "stream",
          "name": "stdout",
          "text": [
            "2.9.2\n"
          ]
        }
      ],
      "source": [
        "import tensorflow.compat.v1 as tf\n",
        "tf.disable_v2_behavior()\n",
        "print(tf.__version__)"
      ]
    },
    {
      "cell_type": "code",
      "source": [
        "#Add a constant tensor to the graph\n",
        "w1 = tf.ones((2,2))\n",
        "# Add a variable to our graph\n",
        "w2 = tf.Variable(tf.ones((2,2)))\n",
        "\n",
        "with tf.Session() as sess:\n",
        "\n",
        "  #initialize all variables\n",
        "  sess.run(tf.global_variables_initializer())\n",
        "\n",
        "  print(sess.run(w2))\n",
        "  w3 = w1+w2\n",
        "  print(sess.run(w3))"
      ],
      "metadata": {
        "colab": {
          "base_uri": "https://localhost:8080/"
        },
        "id": "oqdopKP86Clu",
        "outputId": "355520ae-510e-4d79-da47-48d28b55eb80"
      },
      "execution_count": 3,
      "outputs": [
        {
          "output_type": "stream",
          "name": "stdout",
          "text": [
            "[[1. 1.]\n",
            " [1. 1.]]\n",
            "[[2. 2.]\n",
            " [2. 2.]]\n"
          ]
        }
      ]
    },
    {
      "cell_type": "code",
      "source": [
        "random_int_var = tf.get_variable(\"random_int_var_1_to_10\",\n",
        "                                 initializer = tf.random_uniform([3,3],\n",
        "                                                                 minval=1,\n",
        "                                                                 maxval=10,\n",
        "                                                                 dtype=tf.int32))\n",
        "random_int_var.shape"
      ],
      "metadata": {
        "colab": {
          "base_uri": "https://localhost:8080/"
        },
        "id": "EdW1WME16pxj",
        "outputId": "c4adeced-a42d-498d-dd77-867fbc7be5f2"
      },
      "execution_count": 4,
      "outputs": [
        {
          "output_type": "execute_result",
          "data": {
            "text/plain": [
              "TensorShape([Dimension(3), Dimension(3)])"
            ]
          },
          "metadata": {},
          "execution_count": 4
        }
      ]
    },
    {
      "cell_type": "code",
      "source": [
        "tf_int_ones = tf.ones(shape=[3,3], dtype=\"int32\")\n",
        "with tf.Session() as sess:\n",
        "  sess.run(tf.global_variables_initializer())\n",
        "  print(sess.run(random_int_var))\n",
        "  print(sess.run(tf_int_ones))\n",
        "  x = input(\"Type continue when ok\")\n",
        "  tf_matrix_multiplication_prod = tf.matmul(random_int_var, tf_int_ones)\n",
        "  print(sess.run(tf_matrix_multiplication_prod))"
      ],
      "metadata": {
        "colab": {
          "base_uri": "https://localhost:8080/"
        },
        "id": "SVHR8MTg9ytd",
        "outputId": "324254bb-c01a-4045-a779-a66af7138657"
      },
      "execution_count": 6,
      "outputs": [
        {
          "output_type": "stream",
          "name": "stdout",
          "text": [
            "[[2 4 9]\n",
            " [2 8 2]\n",
            " [8 2 3]]\n",
            "[[1 1 1]\n",
            " [1 1 1]\n",
            " [1 1 1]]\n",
            "Type continue when okcontinue\n",
            "[[15 15 15]\n",
            " [12 12 12]\n",
            " [13 13 13]]\n"
          ]
        }
      ]
    }
  ]
}